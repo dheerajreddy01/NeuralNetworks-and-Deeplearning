{
 "cells": [
  {
   "cell_type": "code",
   "execution_count": 24,
   "id": "d2990000",
   "metadata": {},
   "outputs": [
    {
     "name": "stdout",
     "output_type": "stream",
     "text": [
      "Accuracy: 0.535\n",
      "              precision    recall  f1-score   support\n",
      "\n",
      "           1       0.57      0.57      0.57        14\n",
      "           2       0.43      0.77      0.56        13\n",
      "           3       0.00      0.00      0.00         6\n",
      "           5       0.00      0.00      0.00         1\n",
      "           6       1.00      0.33      0.50         3\n",
      "           7       0.80      0.67      0.73         6\n",
      "\n",
      "    accuracy                           0.53        43\n",
      "   macro avg       0.47      0.39      0.39        43\n",
      "weighted avg       0.50      0.53      0.49        43\n",
      "\n"
     ]
    },
    {
     "name": "stderr",
     "output_type": "stream",
     "text": [
      "C:\\Python311\\Lib\\site-packages\\sklearn\\metrics\\_classification.py:1344: UndefinedMetricWarning: Precision and F-score are ill-defined and being set to 0.0 in labels with no predicted samples. Use `zero_division` parameter to control this behavior.\n",
      "  _warn_prf(average, modifier, msg_start, len(result))\n",
      "C:\\Python311\\Lib\\site-packages\\sklearn\\metrics\\_classification.py:1344: UndefinedMetricWarning: Precision and F-score are ill-defined and being set to 0.0 in labels with no predicted samples. Use `zero_division` parameter to control this behavior.\n",
      "  _warn_prf(average, modifier, msg_start, len(result))\n",
      "C:\\Python311\\Lib\\site-packages\\sklearn\\metrics\\_classification.py:1344: UndefinedMetricWarning: Precision and F-score are ill-defined and being set to 0.0 in labels with no predicted samples. Use `zero_division` parameter to control this behavior.\n",
      "  _warn_prf(average, modifier, msg_start, len(result))\n"
     ]
    }
   ],
   "source": [
    "import pandas as pd\n",
    "from sklearn.model_selection import train_test_split\n",
    "from sklearn.svm import LinearSVC\n",
    "from sklearn.metrics import classification_report\n",
    "\n",
    "\n",
    "# using pandas importing the dataset\n",
    "df = pd.read_csv('glass.csv')\n",
    "X_train, X_test, Y_train, Y_test = train_test_split(df.drop(\"Type\", axis=1), df[\"Type\"], test_size=0.2)\n",
    "\n",
    "# train model using linear support vector machine\n",
    "model = LinearSVC(dual=False)\n",
    "model.fit(X_train, Y_train)\n",
    "\n",
    "# evaluating the model\n",
    "score = model.score(X_test, Y_test)\n",
    "print('Accuracy: %.3f' % score)\n",
    "\n",
    "# generating the classification report \n",
    "y_pred = model.predict(X_test)\n",
    "report = classification_report(y_true=Y_test, y_pred=y_pred)\n",
    "print(report)"
   ]
  },
  {
   "cell_type": "code",
   "execution_count": null,
   "id": "eac11bac",
   "metadata": {},
   "outputs": [],
   "source": []
  },
  {
   "cell_type": "code",
   "execution_count": null,
   "id": "ee307cbd",
   "metadata": {},
   "outputs": [],
   "source": []
  },
  {
   "cell_type": "code",
   "execution_count": null,
   "id": "41ef16ef",
   "metadata": {},
   "outputs": [],
   "source": []
  }
 ],
 "metadata": {
  "kernelspec": {
   "display_name": "Python 3 (ipykernel)",
   "language": "python",
   "name": "python3"
  },
  "language_info": {
   "codemirror_mode": {
    "name": "ipython",
    "version": 3
   },
   "file_extension": ".py",
   "mimetype": "text/x-python",
   "name": "python",
   "nbconvert_exporter": "python",
   "pygments_lexer": "ipython3",
   "version": "3.11.0"
  }
 },
 "nbformat": 4,
 "nbformat_minor": 5
}
